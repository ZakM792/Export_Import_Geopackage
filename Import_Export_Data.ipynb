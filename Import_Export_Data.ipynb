{
 "cells": [
  {
   "cell_type": "code",
   "execution_count": 1,
   "id": "ae206a12-d9b3-4713-b3b1-21e580722373",
   "metadata": {},
   "outputs": [],
   "source": [
    "# Import Libraries\n",
    "import geopandas as gpd\n",
    "import rasterio\n",
    "from osgeo import gdal, ogr\n",
    "import pandas as pd\n",
    "import fiona\n",
    "import os\n",
    "from shapely.geometry import Point"
   ]
  },
  {
   "cell_type": "code",
   "execution_count": 2,
   "id": "4c502285-ea3d-4454-9866-8084c90c1845",
   "metadata": {},
   "outputs": [
    {
     "name": "stdout",
     "output_type": "stream",
     "text": [
      "Direktori kerja saat ini: D:\\Geodatabase\\Export_Import_Geopackage\n"
     ]
    }
   ],
   "source": [
    "# Cek Direktori\n",
    "print(\"Direktori kerja saat ini:\", os.getcwd())"
   ]
  },
  {
   "cell_type": "markdown",
   "id": "8f1d3fde-8cf5-4ac3-a7e2-3cba3451940e",
   "metadata": {},
   "source": [
    "IMPORT DATA KE DALAM GEODATABASE FORMAT GPKG"
   ]
  },
  {
   "cell_type": "code",
   "execution_count": 3,
   "id": "fc4477cb-be4f-4f1c-b666-7be74ea894f4",
   "metadata": {},
   "outputs": [
    {
     "name": "stdout",
     "output_type": "stream",
     "text": [
      "GeoPackage sudah ada: D:\\Geodatabase\\Export_Import_Geopackage\\02_Geodatabase\\Kota_Malang.gpkg\n"
     ]
    }
   ],
   "source": [
    "# CEK DAN BUAT FILE GEODATABASENYA (Pada praktikum ini menggunakan format Geopackage)\n",
    "# Folder data dan lokasi GeoPackage\n",
    "data_folder = r\"D:\\Geodatabase\\Export_Import_Geopackage\\02_Geodatabase\"\n",
    "gpkg_path = os.path.join(data_folder, \"Kota_Malang.gpkg\")\n",
    "\n",
    "# Mengecek apakah GeoPackage sudah ada\n",
    "if not os.path.exists(gpkg_path):\n",
    "    # Membuat GeoPackage baru (cukup buat file kosong karena GeoPackage tidak perlu format khusus)\n",
    "    # GeoPackage tidak perlu proses pembuatan seperti GDB\n",
    "    with open(gpkg_path, 'w') as f:\n",
    "        pass  # Membuat file kosong untuk GeoPackage\n",
    "\n",
    "    print(f\"GeoPackage dibuat: {gpkg_path}\")\n",
    "else:\n",
    "    print(f\"GeoPackage sudah ada: {gpkg_path}\")\n"
   ]
  },
  {
   "cell_type": "code",
   "execution_count": 4,
   "id": "c55485f2-290c-4c77-884b-4024be3836d1",
   "metadata": {},
   "outputs": [
    {
     "name": "stdout",
     "output_type": "stream",
     "text": [
      "\n",
      "Beberapa data pertama dalam CSV:\n",
      "            X         Y     KET\n",
      "0  112.623473 -8.022454  Masjid\n",
      "1  112.620837 -8.021515  Masjid\n",
      "2  112.620879 -8.011543  Masjid\n",
      "3  112.619338 -8.009534  Masjid\n",
      "4  112.615097 -8.002766  Gereja\n",
      "\n",
      "Referensi Spasial (CRS):\n",
      "EPSG:4326\n",
      "\n",
      "CSV 'D:\\Geodatabase\\Export_Import_Geopackage\\01_Input_Data\\01_CSV\\Kota_Malang_Tempat_Ibadah.csv' berhasil ditambahkan ke GeoPackage 'D:\\Geodatabase\\Export_Import_Geopackage\\02_Geodatabase\\Kota_Malang.gpkg' dengan layer '01_CSV_Kota_Malang_Tempat_Ibadah'.\n"
     ]
    }
   ],
   "source": [
    "# Import CSV\n",
    "# Path file CSV dan GeoPackage\n",
    "csv_path = r\"D:\\Geodatabase\\Export_Import_Geopackage\\01_Input_Data\\01_CSV\\Kota_Malang_Tempat_Ibadah.csv\"\n",
    "gpkg_path = r\"D:\\Geodatabase\\Export_Import_Geopackage\\02_Geodatabase\\Kota_Malang.gpkg\"\n",
    "\n",
    "# Membaca file CSV\n",
    "df_csv = pd.read_csv(csv_path)\n",
    "\n",
    "# Menampilkan beberapa data pertama dari CSV\n",
    "print(\"\\nBeberapa data pertama dalam CSV:\")\n",
    "print(df_csv.head())\n",
    "\n",
    "# Mengonversi data CSV ke GeoDataFrame (X = longitude, Y = latitude)\n",
    "geometry = [Point(xy) for xy in zip(df_csv['X'], df_csv['Y'])]\n",
    "gdf_csv = gpd.GeoDataFrame(df_csv, geometry=geometry)\n",
    "\n",
    "# Menentukan CRS (misalnya, WGS 84 dengan EPSG:4326)\n",
    "gdf_csv.set_crs(epsg=4326, inplace=True)\n",
    "\n",
    "# Menampilkan informasi CRS\n",
    "print(\"\\nReferensi Spasial (CRS):\")\n",
    "print(gdf_csv.crs)\n",
    "\n",
    "# Menyimpan GeoDataFrame ke GeoPackage dengan layer '03_CSV'\n",
    "gdf_csv.to_file(gpkg_path, layer='01_CSV_Kota_Malang_Tempat_Ibadah', driver=\"GPKG\")\n",
    "\n",
    "# Menampilkan pesan selesai\n",
    "print(f\"\\nCSV '{csv_path}' berhasil ditambahkan ke GeoPackage '{gpkg_path}' dengan layer '01_CSV_Kota_Malang_Tempat_Ibadah'.\")"
   ]
  },
  {
   "cell_type": "code",
   "execution_count": 5,
   "id": "e9953042-598b-4bd3-90d0-1ebea4bd1ce9",
   "metadata": {},
   "outputs": [
    {
     "name": "stdout",
     "output_type": "stream",
     "text": [
      "\n",
      "Beberapa data pertama dalam GeoJSON:\n",
      "   FID    Province      Regency       District  \\\n",
      "0    0  Jawa Timur  Kota Malang       Blimbing   \n",
      "1    1  Jawa Timur  Kota Malang  Kedungkandang   \n",
      "2    2  Jawa Timur  Kota Malang         Klojen   \n",
      "3    3  Jawa Timur  Kota Malang      Lowokwaru   \n",
      "4    4  Jawa Timur  Kota Malang          Sukun   \n",
      "\n",
      "                                            geometry  \n",
      "0  POLYGON Z ((112.65 -7.9175 0, 112.65 -7.9172 0...  \n",
      "1  POLYGON Z ((112.66 -7.9653 0, 112.66 -7.9653 0...  \n",
      "2  POLYGON Z ((112.62 -7.9561 0, 112.62 -7.9561 0...  \n",
      "3  POLYGON Z ((112.63 -7.915 0, 112.63 -7.9108 0,...  \n",
      "4  POLYGON Z ((112.58 -7.943 0, 112.58 -7.943 0, ...  \n",
      "\n",
      "Referensi Spasial (CRS) sebelum penulisan:\n",
      "EPSG:4326\n",
      "\n",
      "GeoJSON 'D:\\Geodatabase\\Export_Import_Geopackage\\01_Input_Data\\02_GeoJSON\\Kota_Malang_Batas_Kecamatan.json' berhasil ditambahkan ke GeoPackage 'D:\\Geodatabase\\Export_Import_Geopackage\\02_Geodatabase\\Kota_Malang.gpkg' dengan layer '02_GeoJSON_Kota_Malang_Batas_Kecamatan'.\n"
     ]
    }
   ],
   "source": [
    "# Import GeoJSON\n",
    "# Path file GeoJSON dan GeoPackage\n",
    "geojson_path = r\"D:\\Geodatabase\\Export_Import_Geopackage\\01_Input_Data\\02_GeoJSON\\Kota_Malang_Batas_Kecamatan.json\"\n",
    "gpkg_path = r\"D:\\Geodatabase\\Export_Import_Geopackage\\02_Geodatabase\\Kota_Malang.gpkg\"\n",
    "\n",
    "# Membaca file GeoJSON\n",
    "gdf_geojson = gpd.read_file(geojson_path)\n",
    "\n",
    "# Verifikasi apakah ada data dalam GeoJSON\n",
    "print(\"\\nBeberapa data pertama dalam GeoJSON:\")\n",
    "print(gdf_geojson.head())\n",
    "\n",
    "# Menampilkan informasi CRS (referensi spasial)\n",
    "print(\"\\nReferensi Spasial (CRS) sebelum penulisan:\")\n",
    "print(gdf_geojson.crs)\n",
    "\n",
    "# Menyimpan GeoJSON ke GeoPackage dengan layer '01_GeoJSON'\n",
    "gdf_geojson.to_file(gpkg_path, layer='02_GeoJSON_Kota_Malang_Batas_Kecamatan', driver=\"GPKG\")\n",
    "\n",
    "print(f\"\\nGeoJSON '{geojson_path}' berhasil ditambahkan ke GeoPackage '{gpkg_path}' dengan layer '02_GeoJSON_Kota_Malang_Batas_Kecamatan'.\")"
   ]
  },
  {
   "cell_type": "code",
   "execution_count": 6,
   "id": "4dc9f960-07be-4dfb-bd22-60a6f5a5476f",
   "metadata": {},
   "outputs": [
    {
     "name": "stdout",
     "output_type": "stream",
     "text": [
      "\n",
      "Beberapa data pertama dalam shapefile:\n",
      "     Province      Regency                                           geometry\n",
      "0  Jawa Timur  Kota Malang  POLYGON Z ((112.63 -7.915 0, 112.64 -7.9191 0,...\n",
      "\n",
      "Referensi Spasial (CRS) sebelum penulisan:\n",
      "EPSG:4326\n",
      "\n",
      "Shapefile 'D:\\Geodatabase\\Export_Import_Geopackage\\01_Input_Data\\03_Shapefile\\Kota_Malang.shp' berhasil ditambahkan ke GeoPackage 'D:\\Geodatabase\\Export_Import_Geopackage\\02_Geodatabase\\Kota_Malang.gpkg' dengan layer '03_Shapefile_Kota_Malang'.\n"
     ]
    }
   ],
   "source": [
    "# Import Shapefile\n",
    "# Path file shapefile dan GeoPackage\n",
    "shp_path = r\"D:\\Geodatabase\\Export_Import_Geopackage\\01_Input_Data\\03_Shapefile\\Kota_Malang.shp\"\n",
    "gpkg_path = r\"D:\\Geodatabase\\Export_Import_Geopackage\\02_Geodatabase\\Kota_Malang.gpkg\"\n",
    "\n",
    "# Membaca shapefile\n",
    "gdf_shp = gpd.read_file(shp_path)\n",
    "\n",
    "# Verifikasi apakah ada data dalam shapefile\n",
    "print(\"\\nBeberapa data pertama dalam shapefile:\")\n",
    "print(gdf_shp.head())\n",
    "\n",
    "# Menampilkan informasi CRS (referensi spasial)\n",
    "print(\"\\nReferensi Spasial (CRS) sebelum penulisan:\")\n",
    "print(gdf_shp.crs)\n",
    "\n",
    "# Menyimpan shapefile ke GeoPackage dengan layer '01_Shapefile'\n",
    "gdf_shp.to_file(gpkg_path, layer='03_Shapefile_Kota_Malang', driver=\"GPKG\")\n",
    "\n",
    "# Menampilkan pesan selesai\n",
    "print(f\"\\nShapefile '{shp_path}' berhasil ditambahkan ke GeoPackage '{gpkg_path}' dengan layer '03_Shapefile_Kota_Malang'.\")"
   ]
  },
  {
   "cell_type": "code",
   "execution_count": 7,
   "id": "63d2c376-c25a-49b6-b79d-182519c64bdb",
   "metadata": {},
   "outputs": [
    {
     "name": "stdout",
     "output_type": "stream",
     "text": [
      "\n",
      "Informasi Raster:\n",
      "Driver: GTiff/GeoTIFF\n",
      "Ukuran: 16 x 18\n",
      "Jumlah Band: 1\n",
      "\n",
      "Referensi Spasial (CRS): GEOGCS[\"WGS 84\",DATUM[\"WGS_1984\",SPHEROID[\"WGS 84\",6378137,298.257223563,AUTHORITY[\"EPSG\",\"7030\"]],AUTHORITY[\"EPSG\",\"6326\"]],PRIMEM[\"Greenwich\",0,AUTHORITY[\"EPSG\",\"8901\"]],UNIT[\"degree\",0.0174532925199433,AUTHORITY[\"EPSG\",\"9122\"]],AXIS[\"Latitude\",NORTH],AXIS[\"Longitude\",EAST],AUTHORITY[\"EPSG\",\"4326\"]]\n",
      "\n",
      "Raster GeoTIFF 'D:\\Geodatabase\\Export_Import_Geopackage\\01_Input_Data\\04_Geotiff\\Kota_Malang_Hujan_Tahunan.tif' berhasil ditambahkan ke GeoPackage 'D:\\Geodatabase\\Export_Import_Geopackage\\02_Geodatabase\\Kota_Malang.gpkg' dengan layer '04_Geotiff_Kota_Malang_Hujan_Tahunan'.\n"
     ]
    }
   ],
   "source": [
    "# Import GeoTIFF\n",
    "# Path file GeoTIFF dan GeoPackage\n",
    "raster_path = r\"D:\\Geodatabase\\Export_Import_Geopackage\\01_Input_Data\\04_Geotiff\\Kota_Malang_Hujan_Tahunan.tif\"\n",
    "gpkg_path = r\"D:\\Geodatabase\\Export_Import_Geopackage\\02_Geodatabase\\Kota_Malang.gpkg\"\n",
    "\n",
    "# Nama layer di GeoPackage\n",
    "layer_name = \"04_Geotiff_Kota_Malang_Hujan_Tahunan\"\n",
    "\n",
    "# Membuka file GeoTIFF\n",
    "raster_dataset = gdal.Open(raster_path)\n",
    "\n",
    "# Menampilkan informasi tentang raster\n",
    "print(\"\\nInformasi Raster:\")\n",
    "print(f\"Driver: {raster_dataset.GetDriver().ShortName}/{raster_dataset.GetDriver().LongName}\")\n",
    "print(f\"Ukuran: {raster_dataset.RasterXSize} x {raster_dataset.RasterYSize}\")\n",
    "print(f\"Jumlah Band: {raster_dataset.RasterCount}\")\n",
    "print(f\"\\nReferensi Spasial (CRS): {raster_dataset.GetProjection()}\")\n",
    "\n",
    "# Menulis raster ke GeoPackage\n",
    "gdal.Translate(\n",
    "    destName=gpkg_path,\n",
    "    srcDS=raster_dataset,\n",
    "    format=\"GPKG\",\n",
    "    creationOptions=[\n",
    "        f\"RASTER_TABLE={layer_name}\",  # Menentukan nama layer\n",
    "        \"APPEND_SUBDATASET=YES\"        # Menambahkan ke GeoPackage yang sudah ada\n",
    "    ]\n",
    ")\n",
    "\n",
    "# Menampilkan pesan selesai\n",
    "print(f\"\\nRaster GeoTIFF '{raster_path}' berhasil ditambahkan ke GeoPackage '{gpkg_path}' dengan layer '{layer_name}'.\")\n"
   ]
  },
  {
   "cell_type": "markdown",
   "id": "1007c143-e886-4a17-a31e-d5224315e281",
   "metadata": {},
   "source": [
    "EXPORT DATA DARI GEODATABASE FORMAT GPKG"
   ]
  },
  {
   "cell_type": "code",
   "execution_count": 8,
   "id": "01671c32-aa6f-4a03-9c92-2b9939d0d9c0",
   "metadata": {},
   "outputs": [
    {
     "name": "stdout",
     "output_type": "stream",
     "text": [
      "\n",
      "Beberapa data pertama dalam layer GeoPackage:\n",
      "            X         Y     KET                geometry\n",
      "0  112.623473 -8.022454  Masjid  POINT (112.62 -8.0225)\n",
      "1  112.620837 -8.021515  Masjid  POINT (112.62 -8.0215)\n",
      "2  112.620879 -8.011543  Masjid  POINT (112.62 -8.0115)\n",
      "3  112.619338 -8.009534  Masjid  POINT (112.62 -8.0095)\n",
      "4  112.615097 -8.002766  Gereja  POINT (112.62 -8.0028)\n",
      "\n",
      "Layer '01_CSV_Kota_Malang_Tempat_Ibadah' berhasil diekspor ke file CSV: D:\\Geodatabase\\Export_Import_Geopackage\\03_Output_Data\\01_CSV\\01_Kota_Malang_Tempat_Ibadah.csv\n"
     ]
    }
   ],
   "source": [
    "# Export CSV Dari Geodatabase\n",
    "# Path file GeoPackage\n",
    "gpkg_path = r\"D:\\Geodatabase\\Export_Import_Geopackage\\02_Geodatabase\\Kota_Malang.gpkg\"\n",
    "layer_name = '01_CSV_Kota_Malang_Tempat_Ibadah'  # Nama layer di GPKG\n",
    "\n",
    "# Path untuk menyimpan file CSV hasil ekspor\n",
    "output_csv_path = r\"D:\\Geodatabase\\Export_Import_Geopackage\\03_Output_Data\\01_CSV\\01_Kota_Malang_Tempat_Ibadah.csv\"\n",
    "\n",
    "# Membaca layer dari GeoPackage\n",
    "gdf = gpd.read_file(gpkg_path, layer=layer_name)\n",
    "\n",
    "# Menampilkan beberapa data pertama dari GeoDataFrame\n",
    "print(\"\\nBeberapa data pertama dalam layer GeoPackage:\")\n",
    "print(gdf.head())\n",
    "\n",
    "# Menyimpan GeoDataFrame ke file CSV\n",
    "gdf.to_csv(output_csv_path, index=False)\n",
    "\n",
    "# Menampilkan pesan selesai\n",
    "print(f\"\\nLayer '{layer_name}' berhasil diekspor ke file CSV: {output_csv_path}\")\n"
   ]
  },
  {
   "cell_type": "code",
   "execution_count": 9,
   "id": "22b6b9c6-805c-4207-9bae-bbe7b0d8a9a4",
   "metadata": {},
   "outputs": [
    {
     "name": "stdout",
     "output_type": "stream",
     "text": [
      "\n",
      "Beberapa data pertama dalam layer GeoPackage:\n",
      "     Province      Regency       District  \\\n",
      "0  Jawa Timur  Kota Malang       Blimbing   \n",
      "1  Jawa Timur  Kota Malang  Kedungkandang   \n",
      "2  Jawa Timur  Kota Malang         Klojen   \n",
      "3  Jawa Timur  Kota Malang      Lowokwaru   \n",
      "4  Jawa Timur  Kota Malang          Sukun   \n",
      "\n",
      "                                            geometry  \n",
      "0  POLYGON Z ((112.65 -7.9175 0, 112.65 -7.9172 0...  \n",
      "1  POLYGON Z ((112.66 -7.9653 0, 112.66 -7.9653 0...  \n",
      "2  POLYGON Z ((112.62 -7.9561 0, 112.62 -7.9561 0...  \n",
      "3  POLYGON Z ((112.63 -7.915 0, 112.63 -7.9108 0,...  \n",
      "4  POLYGON Z ((112.58 -7.943 0, 112.58 -7.943 0, ...  \n",
      "\n",
      "Layer '02_GeoJSON_Kota_Malang_Batas_Kecamatan' berhasil diekspor ke file GeoJSON: D:\\Geodatabase\\Export_Import_Geopackage\\03_Output_Data\\02_GeoJSON\\02_Kota_Malang_Batas_Kecamatan.json\n"
     ]
    }
   ],
   "source": [
    "# Export GeoJSON Dari Geodatabase\n",
    "# Path file GeoPackage\n",
    "gpkg_path = r\"D:\\Geodatabase\\Export_Import_Geopackage\\02_Geodatabase\\Kota_Malang.gpkg\"\n",
    "layer_name = '02_GeoJSON_Kota_Malang_Batas_Kecamatan'  # Nama layer di GeoPackage\n",
    "\n",
    "# Path untuk menyimpan file GeoJSON hasil ekspor\n",
    "output_geojson_path = r\"D:\\Geodatabase\\Export_Import_Geopackage\\03_Output_Data\\02_GeoJSON\\02_Kota_Malang_Batas_Kecamatan.json\"\n",
    "\n",
    "# Membaca layer dari GeoPackage\n",
    "gdf = gpd.read_file(gpkg_path, layer=layer_name)\n",
    "\n",
    "# Menampilkan beberapa data pertama dari GeoDataFrame\n",
    "print(\"\\nBeberapa data pertama dalam layer GeoPackage:\")\n",
    "print(gdf.head())\n",
    "\n",
    "# Menyimpan GeoDataFrame ke file GeoJSON\n",
    "gdf.to_file(output_geojson_path, driver=\"GeoJSON\")\n",
    "\n",
    "# Menampilkan pesan selesai\n",
    "print(f\"\\nLayer '{layer_name}' berhasil diekspor ke file GeoJSON: {output_geojson_path}\")\n"
   ]
  },
  {
   "cell_type": "code",
   "execution_count": 10,
   "id": "ed2b8f72-2537-453a-9daa-a6f3d1c00089",
   "metadata": {},
   "outputs": [
    {
     "name": "stdout",
     "output_type": "stream",
     "text": [
      "\n",
      "Beberapa data pertama dalam layer GeoPackage:\n",
      "     Province      Regency                                           geometry\n",
      "0  Jawa Timur  Kota Malang  POLYGON Z ((112.63 -7.915 0, 112.64 -7.9191 0,...\n",
      "\n",
      "Layer '03_Shapefile_Kota_Malang' berhasil diekspor ke file shapefile: D:\\Geodatabase\\Export_Import_Geopackage\\03_Output_Data\\03_Shapefile\\03_Kota_Malang.shp\n"
     ]
    }
   ],
   "source": [
    "# Export SHP Dari Geodatabase\n",
    "# Path file GeoPackage\n",
    "gpkg_path = r\"D:\\Geodatabase\\Export_Import_Geopackage\\02_Geodatabase\\Kota_Malang.gpkg\"\n",
    "layer_name = '03_Shapefile_Kota_Malang'  # Nama layer di GeoPackage\n",
    "\n",
    "# Path untuk menyimpan file shapefile hasil ekspor\n",
    "output_shp_path = r\"D:\\Geodatabase\\Export_Import_Geopackage\\03_Output_Data\\03_Shapefile\\03_Kota_Malang.shp\"\n",
    "\n",
    "# Membaca layer dari GeoPackage\n",
    "gdf = gpd.read_file(gpkg_path, layer=layer_name)\n",
    "\n",
    "# Menampilkan beberapa data pertama dari GeoDataFrame\n",
    "print(\"\\nBeberapa data pertama dalam layer GeoPackage:\")\n",
    "print(gdf.head())\n",
    "\n",
    "# Menyimpan GeoDataFrame ke shapefile\n",
    "gdf.to_file(output_shp_path, driver=\"ESRI Shapefile\")\n",
    "\n",
    "# Menampilkan pesan selesai\n",
    "print(f\"\\nLayer '{layer_name}' berhasil diekspor ke file shapefile: {output_shp_path}\")\n"
   ]
  },
  {
   "cell_type": "code",
   "execution_count": 11,
   "id": "c84ea798-b92b-43a8-a8a8-10a7214d997b",
   "metadata": {},
   "outputs": [
    {
     "name": "stdout",
     "output_type": "stream",
     "text": [
      "\n",
      "Layer '04_Geotiff_Kota_Malang_Hujan_Tahunan' berhasil diekspor ke GeoTIFF: D:\\Geodatabase\\Export_Import_Geopackage\\03_Output_Data\\04_Geotiff\\04_Kota_Malang_Hujan_Tahunan.tif\n"
     ]
    }
   ],
   "source": [
    "# Export GeoTIFF Dari Geodatabase\n",
    "# Path file GeoPackage\n",
    "gpkg_path = r\"D:\\Geodatabase\\Export_Import_Geopackage\\02_Geodatabase\\Kota_Malang.gpkg\"\n",
    "\n",
    "# Nama layer raster dalam GeoPackage\n",
    "layer_name = \"04_Geotiff_Kota_Malang_Hujan_Tahunan\"\n",
    "\n",
    "# Path untuk menyimpan file GeoTIFF hasil ekspor\n",
    "output_tiff_path = r\"D:\\Geodatabase\\Export_Import_Geopackage\\03_Output_Data\\04_Geotiff\\04_Kota_Malang_Hujan_Tahunan.tif\"\n",
    "\n",
    "# Membuka layer raster dari GeoPackage\n",
    "gpkg_dataset = gdal.Open(f\"GPKG:{gpkg_path}:{layer_name}\")\n",
    "\n",
    "# Mengecek apakah layer tersedia\n",
    "if not gpkg_dataset:\n",
    "    print(f\"Layer '{layer_name}' tidak ditemukan di GeoPackage '{gpkg_path}'.\")\n",
    "else:\n",
    "    # Menyimpan layer raster ke file GeoTIFF\n",
    "    gdal.Translate(output_tiff_path, gpkg_dataset, format=\"GTiff\")\n",
    "    print(f\"\\nLayer '{layer_name}' berhasil diekspor ke GeoTIFF: {output_tiff_path}\")\n"
   ]
  }
 ],
 "metadata": {
  "kernelspec": {
   "display_name": "Python 3 (ipykernel)",
   "language": "python",
   "name": "python3"
  },
  "language_info": {
   "codemirror_mode": {
    "name": "ipython",
    "version": 3
   },
   "file_extension": ".py",
   "mimetype": "text/x-python",
   "name": "python",
   "nbconvert_exporter": "python",
   "pygments_lexer": "ipython3",
   "version": "3.11.7"
  }
 },
 "nbformat": 4,
 "nbformat_minor": 5
}
